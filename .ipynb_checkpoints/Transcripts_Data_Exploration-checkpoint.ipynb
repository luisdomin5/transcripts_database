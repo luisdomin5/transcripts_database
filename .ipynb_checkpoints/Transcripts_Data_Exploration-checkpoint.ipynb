{
 "cells": [
  {
   "cell_type": "markdown",
   "metadata": {},
   "source": [
    "# Select a subset of participants\n",
    "\n",
    "Data on participants consists of the following:\n",
    "\n",
    "### Ranges\n",
    "* Age\n",
    "* Name\n",
    "* Yrs Loan Taken\n",
    "\n",
    "### Categories\n",
    "* Ethnicity\n",
    "* Income\n",
    "* Employment\n",
    "* Education\n",
    "* State\n",
    "\n",
    "### Binary\n",
    "* Completed Degree\n",
    "* Hispanic/Latino\n",
    "* Currently Have Student Loan\n",
    "* Primary Person Making Repayment\n",
    "* Loan Balance <32K\n",
    "* Ever Missed a Payment\n",
    "* Having Difficulty Making Payments\n",
    "\n",
    "Some data is missing from the original pdf tables this spreadsheet was created from. In cases where data is missing, the value is \"?\""
   ]
  },
  {
   "cell_type": "markdown",
   "metadata": {},
   "source": [
    "## Imports and Data"
   ]
  },
  {
   "cell_type": "code",
   "execution_count": 1,
   "metadata": {},
   "outputs": [],
   "source": [
    "import numpy as np\n",
    "import pandas as pd\n",
    "import qgrid\n",
    "\n",
    "participants_df = pd.read_excel('Participants.xlsx', header=None , names = ['Name', \n",
    "    'PID', 'State', 'Gender', 'Age', 'Education', 'Completed Degree', 'Employment', 'Income', 'Ethnicity',\n",
    "    'Hispanic/Latino', 'Currently Have Student Loan', 'Primary Person Making Repayment', \n",
    "    'Loan balance <$32K', 'Year Loan Taken', 'Ever Missed a Payment', 'Having Difficulty Making Payments'])\n",
    "\n",
    "answers_df = pd.read_excel('Answers_Edited_530.xlsx', sheet_name = \"Answers\" , names = ['PID', 'TQID', 'AID', 'Answer', 'Code'] )"
   ]
  },
  {
   "cell_type": "markdown",
   "metadata": {},
   "source": [
    "## QGrid for Filtering Data by Participants"
   ]
  },
  {
   "cell_type": "markdown",
   "metadata": {},
   "source": [
    "Use the table below to select a subset of participants which you can then run subsequent analysis on. Click the filter on a given column's header to select ranges or specific values for each column"
   ]
  },
  {
   "cell_type": "code",
   "execution_count": 2,
   "metadata": {
    "scrolled": true
   },
   "outputs": [
    {
     "data": {
      "application/vnd.jupyter.widget-view+json": {
       "model_id": "36059378c78d4b488ab06c8c391e7a50",
       "version_major": 2,
       "version_minor": 0
      },
      "text/plain": [
       "QgridWidget(grid_options={'fullWidthRows': True, 'syncColumnCellResize': True, 'forceFitColumns': True, 'defau…"
      ]
     },
     "metadata": {},
     "output_type": "display_data"
    }
   ],
   "source": [
    "participants_qgrid = qgrid.show_grid(participants_df, show_toolbar=True)\n",
    "participants_qgrid"
   ]
  },
  {
   "cell_type": "markdown",
   "metadata": {},
   "source": [
    "## Generate Dataframe Filtered by Participant\n",
    "\n",
    "The code below will generate a new dataframe based on the filters selected in the cell above. This dataframe will allow users to identify the set of answers data from the Answers.xlsx spreadsheet corresponding to selected participants."
   ]
  },
  {
   "cell_type": "code",
   "execution_count": 3,
   "metadata": {},
   "outputs": [
    {
     "data": {
      "text/html": [
       "<div>\n",
       "<style scoped>\n",
       "    .dataframe tbody tr th:only-of-type {\n",
       "        vertical-align: middle;\n",
       "    }\n",
       "\n",
       "    .dataframe tbody tr th {\n",
       "        vertical-align: top;\n",
       "    }\n",
       "\n",
       "    .dataframe thead th {\n",
       "        text-align: right;\n",
       "    }\n",
       "</style>\n",
       "<table border=\"1\" class=\"dataframe\">\n",
       "  <thead>\n",
       "    <tr style=\"text-align: right;\">\n",
       "      <th></th>\n",
       "      <th>Name</th>\n",
       "      <th>PID</th>\n",
       "      <th>State</th>\n",
       "      <th>Gender</th>\n",
       "      <th>Age</th>\n",
       "      <th>Education</th>\n",
       "      <th>Completed Degree</th>\n",
       "      <th>Employment</th>\n",
       "      <th>Income</th>\n",
       "      <th>Ethnicity</th>\n",
       "      <th>Hispanic/Latino</th>\n",
       "      <th>Currently Have Student Loan</th>\n",
       "      <th>Primary Person Making Repayment</th>\n",
       "      <th>Loan balance &lt;$32K</th>\n",
       "      <th>Year Loan Taken</th>\n",
       "      <th>Ever Missed a Payment</th>\n",
       "      <th>Having Difficulty Making Payments</th>\n",
       "    </tr>\n",
       "  </thead>\n",
       "  <tbody>\n",
       "    <tr>\n",
       "      <th>0</th>\n",
       "      <td>Aliana</td>\n",
       "      <td>1</td>\n",
       "      <td>california</td>\n",
       "      <td>F</td>\n",
       "      <td>31</td>\n",
       "      <td>technical degree</td>\n",
       "      <td>yes</td>\n",
       "      <td>Full Time</td>\n",
       "      <td>$50-99K</td>\n",
       "      <td>-</td>\n",
       "      <td>Yes</td>\n",
       "      <td>Yes</td>\n",
       "      <td>Yes</td>\n",
       "      <td>No</td>\n",
       "      <td>2012</td>\n",
       "      <td>Yes</td>\n",
       "      <td>Yes</td>\n",
       "    </tr>\n",
       "    <tr>\n",
       "      <th>4</th>\n",
       "      <td>Christine</td>\n",
       "      <td>5</td>\n",
       "      <td>california</td>\n",
       "      <td>F</td>\n",
       "      <td>31</td>\n",
       "      <td>technical degree</td>\n",
       "      <td>yes</td>\n",
       "      <td>Unemployed</td>\n",
       "      <td>&lt;$30K</td>\n",
       "      <td>African American</td>\n",
       "      <td>No</td>\n",
       "      <td>Yes</td>\n",
       "      <td>Yes</td>\n",
       "      <td>No</td>\n",
       "      <td>2012 2013</td>\n",
       "      <td>Yes</td>\n",
       "      <td>Yes</td>\n",
       "    </tr>\n",
       "    <tr>\n",
       "      <th>7</th>\n",
       "      <td>Paul</td>\n",
       "      <td>8</td>\n",
       "      <td>california</td>\n",
       "      <td>M</td>\n",
       "      <td>32</td>\n",
       "      <td>college graduate</td>\n",
       "      <td>yes</td>\n",
       "      <td>Full Time</td>\n",
       "      <td>$30-49K</td>\n",
       "      <td>Asian</td>\n",
       "      <td>No</td>\n",
       "      <td>Yes</td>\n",
       "      <td>Yes</td>\n",
       "      <td>Yes</td>\n",
       "      <td>2008 2015</td>\n",
       "      <td>No</td>\n",
       "      <td>Yes</td>\n",
       "    </tr>\n",
       "    <tr>\n",
       "      <th>8</th>\n",
       "      <td>Jonathan</td>\n",
       "      <td>9</td>\n",
       "      <td>california</td>\n",
       "      <td>M</td>\n",
       "      <td>30</td>\n",
       "      <td>college graduate</td>\n",
       "      <td>yes</td>\n",
       "      <td>Full Time</td>\n",
       "      <td>$30-49K</td>\n",
       "      <td>Caucasian</td>\n",
       "      <td>No</td>\n",
       "      <td>Yes</td>\n",
       "      <td>Yes</td>\n",
       "      <td>Yes</td>\n",
       "      <td>2013 2014</td>\n",
       "      <td>Yes</td>\n",
       "      <td>Yes</td>\n",
       "    </tr>\n",
       "    <tr>\n",
       "      <th>19</th>\n",
       "      <td>Connie</td>\n",
       "      <td>20</td>\n",
       "      <td>Pennsylvania</td>\n",
       "      <td>F</td>\n",
       "      <td>30</td>\n",
       "      <td>graduate degree</td>\n",
       "      <td>yes</td>\n",
       "      <td>Part Time</td>\n",
       "      <td>$50-99K</td>\n",
       "      <td>Asian</td>\n",
       "      <td>No</td>\n",
       "      <td>?</td>\n",
       "      <td>?</td>\n",
       "      <td>No</td>\n",
       "      <td>2012</td>\n",
       "      <td>Yes</td>\n",
       "      <td>Yes</td>\n",
       "    </tr>\n",
       "  </tbody>\n",
       "</table>\n",
       "</div>"
      ],
      "text/plain": [
       "         Name  PID         State Gender Age         Education  \\\n",
       "0      Aliana    1    california      F  31  technical degree   \n",
       "4   Christine    5    california      F  31  technical degree   \n",
       "7        Paul    8    california      M  32  college graduate   \n",
       "8    Jonathan    9    california      M  30  college graduate   \n",
       "19     Connie   20  Pennsylvania      F  30   graduate degree   \n",
       "\n",
       "   Completed Degree  Employment   Income         Ethnicity Hispanic/Latino  \\\n",
       "0               yes   Full Time  $50-99K                 -             Yes   \n",
       "4               yes  Unemployed    <$30K  African American              No   \n",
       "7               yes   Full Time  $30-49K             Asian              No   \n",
       "8               yes   Full Time  $30-49K         Caucasian              No   \n",
       "19              yes   Part Time  $50-99K             Asian              No   \n",
       "\n",
       "   Currently Have Student Loan Primary Person Making Repayment  \\\n",
       "0                          Yes                             Yes   \n",
       "4                          Yes                             Yes   \n",
       "7                          Yes                             Yes   \n",
       "8                          Yes                             Yes   \n",
       "19                           ?                               ?   \n",
       "\n",
       "   Loan balance <$32K Year Loan Taken Ever Missed a Payment  \\\n",
       "0                  No            2012                   Yes   \n",
       "4                  No       2012 2013                   Yes   \n",
       "7                 Yes       2008 2015                    No   \n",
       "8                 Yes       2013 2014                   Yes   \n",
       "19                 No            2012                   Yes   \n",
       "\n",
       "   Having Difficulty Making Payments  \n",
       "0                                Yes  \n",
       "4                                Yes  \n",
       "7                                Yes  \n",
       "8                                Yes  \n",
       "19                               Yes  "
      ]
     },
     "execution_count": 3,
     "metadata": {},
     "output_type": "execute_result"
    }
   ],
   "source": [
    "participants_filtered_df = participants_qgrid.get_changed_df()\n",
    "participants_filtered_df"
   ]
  },
  {
   "cell_type": "markdown",
   "metadata": {},
   "source": [
    "Create an object `qgrid_pids` which lists the selects PIDs and is then passed to locate values in Answers.xlsx"
   ]
  },
  {
   "cell_type": "code",
   "execution_count": 4,
   "metadata": {
    "scrolled": true
   },
   "outputs": [],
   "source": [
    "qgrid_pids = participants_filtered_df['PID'].values"
   ]
  },
  {
   "cell_type": "code",
   "execution_count": 5,
   "metadata": {},
   "outputs": [],
   "source": [
    "specific_participants_answers_df = answers_df.loc[answers_df['PID'].isin(qgrid_pids)]"
   ]
  },
  {
   "cell_type": "markdown",
   "metadata": {},
   "source": [
    "## QGrid for Filtering Answers Data by TQID, Code\n",
    "\n",
    "This grid allows us to apply new filters to the Answers.xlsx dataset. Previously, we have selected specific participants from the database using a variety of filters. Now, with the dataset which only includes those participants we selected, we can filter the TQID, code, or combination of those which we are interested in viewing summary statistics and other data visualizations on."
   ]
  },
  {
   "cell_type": "code",
   "execution_count": 6,
   "metadata": {},
   "outputs": [
    {
     "data": {
      "application/vnd.jupyter.widget-view+json": {
       "model_id": "0110b447249b46fa8b5a92d70766a76d",
       "version_major": 2,
       "version_minor": 0
      },
      "text/plain": [
       "QgridWidget(grid_options={'fullWidthRows': True, 'syncColumnCellResize': True, 'forceFitColumns': True, 'defau…"
      ]
     },
     "metadata": {},
     "output_type": "display_data"
    }
   ],
   "source": [
    "answers_qgrid = qgrid.show_grid(specific_participants_answers_df, show_toolbar=True)\n",
    "answers_qgrid"
   ]
  },
  {
   "cell_type": "markdown",
   "metadata": {},
   "source": [
    "## Generate Dataframe Filtered by TQID and Code\n",
    "\n",
    "The following cell will generate a dataframe based on the filters which have been applied in the TQID and Code fields."
   ]
  },
  {
   "cell_type": "code",
   "execution_count": 7,
   "metadata": {},
   "outputs": [
    {
     "data": {
      "text/html": [
       "<div>\n",
       "<style scoped>\n",
       "    .dataframe tbody tr th:only-of-type {\n",
       "        vertical-align: middle;\n",
       "    }\n",
       "\n",
       "    .dataframe tbody tr th {\n",
       "        vertical-align: top;\n",
       "    }\n",
       "\n",
       "    .dataframe thead th {\n",
       "        text-align: right;\n",
       "    }\n",
       "</style>\n",
       "<table border=\"1\" class=\"dataframe\">\n",
       "  <thead>\n",
       "    <tr style=\"text-align: right;\">\n",
       "      <th></th>\n",
       "      <th>PID</th>\n",
       "      <th>TQID</th>\n",
       "      <th>AID</th>\n",
       "      <th>Answer</th>\n",
       "      <th>Code</th>\n",
       "    </tr>\n",
       "  </thead>\n",
       "  <tbody>\n",
       "    <tr>\n",
       "      <th>29</th>\n",
       "      <td>1</td>\n",
       "      <td>T1Q5</td>\n",
       "      <td>1</td>\n",
       "      <td>No,</td>\n",
       "      <td>judgment of clarity of document</td>\n",
       "    </tr>\n",
       "    <tr>\n",
       "      <th>30</th>\n",
       "      <td>1</td>\n",
       "      <td>T1Q5</td>\n",
       "      <td>2</td>\n",
       "      <td>because it's not really giving me an amount,</td>\n",
       "      <td>content</td>\n",
       "    </tr>\n",
       "    <tr>\n",
       "      <th>31</th>\n",
       "      <td>1</td>\n",
       "      <td>T1Q5</td>\n",
       "      <td>3</td>\n",
       "      <td>like if I needed a lower payment it</td>\n",
       "      <td>judgment of clarity of document</td>\n",
       "    </tr>\n",
       "    <tr>\n",
       "      <th>32</th>\n",
       "      <td>1</td>\n",
       "      <td>T1Q5</td>\n",
       "      <td>4</td>\n",
       "      <td>doesn't really have an amount on there.</td>\n",
       "      <td>question about eligibility</td>\n",
       "    </tr>\n",
       "    <tr>\n",
       "      <th>33</th>\n",
       "      <td>1</td>\n",
       "      <td>T1Q5</td>\n",
       "      <td>5</td>\n",
       "      <td>Right.</td>\n",
       "      <td>action: call loan servicer</td>\n",
       "    </tr>\n",
       "    <tr>\n",
       "      <th>1396</th>\n",
       "      <td>5</td>\n",
       "      <td>T1Q5</td>\n",
       "      <td>1</td>\n",
       "      <td>Definitely my standard plan,</td>\n",
       "      <td>option he/she would choose</td>\n",
       "    </tr>\n",
       "    <tr>\n",
       "      <th>1397</th>\n",
       "      <td>5</td>\n",
       "      <td>T1Q5</td>\n",
       "      <td>2</td>\n",
       "      <td>the fixed monthly payments which is what I'm ...</td>\n",
       "      <td>reason for choice</td>\n",
       "    </tr>\n",
       "    <tr>\n",
       "      <th>1398</th>\n",
       "      <td>5</td>\n",
       "      <td>T1Q5</td>\n",
       "      <td>3</td>\n",
       "      <td>that way I'm more confident</td>\n",
       "      <td>reason for choice</td>\n",
       "    </tr>\n",
       "    <tr>\n",
       "      <th>1399</th>\n",
       "      <td>5</td>\n",
       "      <td>T1Q5</td>\n",
       "      <td>4</td>\n",
       "      <td>in knowing that the amount stays the same,</td>\n",
       "      <td>preference for options</td>\n",
       "    </tr>\n",
       "    <tr>\n",
       "      <th>1400</th>\n",
       "      <td>5</td>\n",
       "      <td>T1Q5</td>\n",
       "      <td>5</td>\n",
       "      <td>I know how much I make,</td>\n",
       "      <td>self-judgment about eligibility</td>\n",
       "    </tr>\n",
       "    <tr>\n",
       "      <th>1401</th>\n",
       "      <td>5</td>\n",
       "      <td>T1Q5</td>\n",
       "      <td>6</td>\n",
       "      <td>I can note it and all that good stuff</td>\n",
       "      <td>reason for choice</td>\n",
       "    </tr>\n",
       "    <tr>\n",
       "      <th>1402</th>\n",
       "      <td>5</td>\n",
       "      <td>T1Q5</td>\n",
       "      <td>7</td>\n",
       "      <td>and I'm a little more confident that I can mak...</td>\n",
       "      <td>impact of choice</td>\n",
       "    </tr>\n",
       "    <tr>\n",
       "      <th>2520</th>\n",
       "      <td>8</td>\n",
       "      <td>T1Q5</td>\n",
       "      <td>1</td>\n",
       "      <td>I would have to read it several times</td>\n",
       "      <td>lack of understanding</td>\n",
       "    </tr>\n",
       "    <tr>\n",
       "      <th>2521</th>\n",
       "      <td>8</td>\n",
       "      <td>T1Q5</td>\n",
       "      <td>2</td>\n",
       "      <td>and then really take it all in</td>\n",
       "      <td>looking at options</td>\n",
       "    </tr>\n",
       "    <tr>\n",
       "      <th>2522</th>\n",
       "      <td>8</td>\n",
       "      <td>T1Q5</td>\n",
       "      <td>3</td>\n",
       "      <td>and figure out exactly what payment plan work...</td>\n",
       "      <td>self-judgment about eligibility</td>\n",
       "    </tr>\n",
       "    <tr>\n",
       "      <th>2523</th>\n",
       "      <td>8</td>\n",
       "      <td>T1Q5</td>\n",
       "      <td>4</td>\n",
       "      <td>Really my goal is to just pay it off as soon...</td>\n",
       "      <td>reason for choice</td>\n",
       "    </tr>\n",
       "    <tr>\n",
       "      <th>2524</th>\n",
       "      <td>8</td>\n",
       "      <td>T1Q5</td>\n",
       "      <td>5</td>\n",
       "      <td>so I would just call them up</td>\n",
       "      <td>action: call loan servicer</td>\n",
       "    </tr>\n",
       "    <tr>\n",
       "      <th>2525</th>\n",
       "      <td>8</td>\n",
       "      <td>T1Q5</td>\n",
       "      <td>6</td>\n",
       "      <td>and say what do you suggest</td>\n",
       "      <td>expectation of content</td>\n",
       "    </tr>\n",
       "    <tr>\n",
       "      <th>2526</th>\n",
       "      <td>8</td>\n",
       "      <td>T1Q5</td>\n",
       "      <td>7</td>\n",
       "      <td>to really get this done within the next five ...</td>\n",
       "      <td>expectation of content</td>\n",
       "    </tr>\n",
       "    <tr>\n",
       "      <th>3087</th>\n",
       "      <td>9</td>\n",
       "      <td>T1Q5</td>\n",
       "      <td>1</td>\n",
       "      <td>No.</td>\n",
       "      <td>judgment of clarity of document</td>\n",
       "    </tr>\n",
       "    <tr>\n",
       "      <th>3088</th>\n",
       "      <td>9</td>\n",
       "      <td>T1Q5a</td>\n",
       "      <td>1</td>\n",
       "      <td>Cause it doesn't give me numbers, set numbers.</td>\n",
       "      <td>judgment of clarity of document</td>\n",
       "    </tr>\n",
       "    <tr>\n",
       "      <th>8666</th>\n",
       "      <td>20</td>\n",
       "      <td>T1Q5</td>\n",
       "      <td>1</td>\n",
       "      <td>I don't think so.</td>\n",
       "      <td>judgment of clarity of document</td>\n",
       "    </tr>\n",
       "    <tr>\n",
       "      <th>8667</th>\n",
       "      <td>20</td>\n",
       "      <td>T1Q5</td>\n",
       "      <td>2</td>\n",
       "      <td>How to go about my payments,</td>\n",
       "      <td>lack of understanding</td>\n",
       "    </tr>\n",
       "    <tr>\n",
       "      <th>8668</th>\n",
       "      <td>20</td>\n",
       "      <td>T1Q5</td>\n",
       "      <td>3</td>\n",
       "      <td>is that what you're asking?</td>\n",
       "      <td>lack of understanding</td>\n",
       "    </tr>\n",
       "    <tr>\n",
       "      <th>8669</th>\n",
       "      <td>20</td>\n",
       "      <td>T1Q5</td>\n",
       "      <td>4</td>\n",
       "      <td>I don't think I would have enough information.</td>\n",
       "      <td>judgment of clarity of document</td>\n",
       "    </tr>\n",
       "    <tr>\n",
       "      <th>8670</th>\n",
       "      <td>20</td>\n",
       "      <td>T1Q5</td>\n",
       "      <td>5</td>\n",
       "      <td>Because I don't know</td>\n",
       "      <td>lack of understanding</td>\n",
       "    </tr>\n",
       "    <tr>\n",
       "      <th>8671</th>\n",
       "      <td>20</td>\n",
       "      <td>T1Q5</td>\n",
       "      <td>6</td>\n",
       "      <td>what the restrictions are.</td>\n",
       "      <td>restrictions on options</td>\n",
       "    </tr>\n",
       "    <tr>\n",
       "      <th>8672</th>\n",
       "      <td>20</td>\n",
       "      <td>T1Q5</td>\n",
       "      <td>7</td>\n",
       "      <td>I feel like I'm in a similar situation</td>\n",
       "      <td>reason for choice</td>\n",
       "    </tr>\n",
       "    <tr>\n",
       "      <th>8673</th>\n",
       "      <td>20</td>\n",
       "      <td>T1Q5</td>\n",
       "      <td>8</td>\n",
       "      <td>where I have a lot of federal student loans</td>\n",
       "      <td>looking at options</td>\n",
       "    </tr>\n",
       "    <tr>\n",
       "      <th>8674</th>\n",
       "      <td>20</td>\n",
       "      <td>T1Q5</td>\n",
       "      <td>9</td>\n",
       "      <td>and I'm thinking about it.</td>\n",
       "      <td>looking at options</td>\n",
       "    </tr>\n",
       "    <tr>\n",
       "      <th>8675</th>\n",
       "      <td>20</td>\n",
       "      <td>T1Q5</td>\n",
       "      <td>10</td>\n",
       "      <td>It's very similar.</td>\n",
       "      <td>looking at options</td>\n",
       "    </tr>\n",
       "    <tr>\n",
       "      <th>8676</th>\n",
       "      <td>20</td>\n",
       "      <td>T1Q5</td>\n",
       "      <td>11</td>\n",
       "      <td>I have a loan servicer</td>\n",
       "      <td>looking at options</td>\n",
       "    </tr>\n",
       "    <tr>\n",
       "      <th>8677</th>\n",
       "      <td>20</td>\n",
       "      <td>T1Q5</td>\n",
       "      <td>12</td>\n",
       "      <td>and I've had to go through contacting them abo...</td>\n",
       "      <td>looking at options</td>\n",
       "    </tr>\n",
       "  </tbody>\n",
       "</table>\n",
       "</div>"
      ],
      "text/plain": [
       "      PID   TQID  AID                                             Answer  \\\n",
       "29      1   T1Q5    1                                               No,    \n",
       "30      1   T1Q5    2       because it's not really giving me an amount,   \n",
       "31      1   T1Q5    3                like if I needed a lower payment it   \n",
       "32      1   T1Q5    4           doesn't really have an amount on there.    \n",
       "33      1   T1Q5    5                                            Right.    \n",
       "1396    5   T1Q5    1                       Definitely my standard plan,   \n",
       "1397    5   T1Q5    2   the fixed monthly payments which is what I'm ...   \n",
       "1398    5   T1Q5    3                        that way I'm more confident   \n",
       "1399    5   T1Q5    4         in knowing that the amount stays the same,   \n",
       "1400    5   T1Q5    5                            I know how much I make,   \n",
       "1401    5   T1Q5    6             I can note it and all that good stuff    \n",
       "1402    5   T1Q5    7  and I'm a little more confident that I can mak...   \n",
       "2520    8   T1Q5    1             I would have to read it several times    \n",
       "2521    8   T1Q5    2                     and then really take it all in   \n",
       "2522    8   T1Q5    3   and figure out exactly what payment plan work...   \n",
       "2523    8   T1Q5    4    Really my goal is to just pay it off as soon...   \n",
       "2524    8   T1Q5    5                       so I would just call them up   \n",
       "2525    8   T1Q5    6                        and say what do you suggest   \n",
       "2526    8   T1Q5    7   to really get this done within the next five ...   \n",
       "3087    9   T1Q5    1                                                No.   \n",
       "3088    9  T1Q5a    1     Cause it doesn't give me numbers, set numbers.   \n",
       "8666   20   T1Q5    1                                  I don't think so.   \n",
       "8667   20   T1Q5    2                       How to go about my payments,   \n",
       "8668   20   T1Q5    3                        is that what you're asking?   \n",
       "8669   20   T1Q5    4     I don't think I would have enough information.   \n",
       "8670   20   T1Q5    5                               Because I don't know   \n",
       "8671   20   T1Q5    6                         what the restrictions are.   \n",
       "8672   20   T1Q5    7             I feel like I'm in a similar situation   \n",
       "8673   20   T1Q5    8        where I have a lot of federal student loans   \n",
       "8674   20   T1Q5    9                         and I'm thinking about it.   \n",
       "8675   20   T1Q5   10                                 It's very similar.   \n",
       "8676   20   T1Q5   11                             I have a loan servicer   \n",
       "8677   20   T1Q5   12  and I've had to go through contacting them abo...   \n",
       "\n",
       "                                 Code  \n",
       "29    judgment of clarity of document  \n",
       "30                            content  \n",
       "31    judgment of clarity of document  \n",
       "32         question about eligibility  \n",
       "33         action: call loan servicer  \n",
       "1396       option he/she would choose  \n",
       "1397                reason for choice  \n",
       "1398                reason for choice  \n",
       "1399           preference for options  \n",
       "1400  self-judgment about eligibility  \n",
       "1401                reason for choice  \n",
       "1402                 impact of choice  \n",
       "2520            lack of understanding  \n",
       "2521               looking at options  \n",
       "2522  self-judgment about eligibility  \n",
       "2523                reason for choice  \n",
       "2524       action: call loan servicer  \n",
       "2525           expectation of content  \n",
       "2526           expectation of content  \n",
       "3087  judgment of clarity of document  \n",
       "3088  judgment of clarity of document  \n",
       "8666  judgment of clarity of document  \n",
       "8667            lack of understanding  \n",
       "8668            lack of understanding  \n",
       "8669  judgment of clarity of document  \n",
       "8670            lack of understanding  \n",
       "8671          restrictions on options  \n",
       "8672                reason for choice  \n",
       "8673               looking at options  \n",
       "8674               looking at options  \n",
       "8675               looking at options  \n",
       "8676               looking at options  \n",
       "8677               looking at options  "
      ]
     },
     "execution_count": 7,
     "metadata": {},
     "output_type": "execute_result"
    }
   ],
   "source": [
    "answers_filtered_df = answers_qgrid.get_changed_df()\n",
    "answers_filtered_df"
   ]
  },
  {
   "cell_type": "markdown",
   "metadata": {},
   "source": [
    "TODO: \n",
    "- Make a cell which displays the filters that have been applied for double checking\n",
    "- count average response length (per tqid, code, pid) - # answers per tqid x words per coded answer\n",
    "- compare average response length to baselines - identify unusually common words, bigrams, etcs\n",
    "- Sentiment analysis???\n",
    "- common codes per tqid\n",
    "- common words per code"
   ]
  },
  {
   "cell_type": "markdown",
   "metadata": {},
   "source": [
    "## sklearn CountVectorizer\n",
    "\n",
    "sklearn's CountVectorizer splits the process into 3 distinct steps:\n",
    "\n",
    "- Preprocessing, where actions which are taken across the whole dataset are applied. This is any type of processing to be done before splitting into tokens. \n",
    "\n",
    "- Tokenization, where the dataset is split from a large string into a matrix which includes the existence and prevalence of each word in each sentence.\n",
    "\n",
    "- Analysis, where higher level functions such as ngram counting take place \n",
    "\n",
    "\n",
    "Beyond these three, it is possible to do fancy token-level analysis such as stemming, lemmatizing, compound splitting, filtering based on part-of-speech, etc. "
   ]
  },
  {
   "cell_type": "code",
   "execution_count": 48,
   "metadata": {},
   "outputs": [
    {
     "data": {
      "text/html": [
       "<div>\n",
       "<style scoped>\n",
       "    .dataframe tbody tr th:only-of-type {\n",
       "        vertical-align: middle;\n",
       "    }\n",
       "\n",
       "    .dataframe tbody tr th {\n",
       "        vertical-align: top;\n",
       "    }\n",
       "\n",
       "    .dataframe thead th {\n",
       "        text-align: right;\n",
       "    }\n",
       "</style>\n",
       "<table border=\"1\" class=\"dataframe\">\n",
       "  <thead>\n",
       "    <tr style=\"text-align: right;\">\n",
       "      <th></th>\n",
       "      <th>PID</th>\n",
       "      <th>TQID</th>\n",
       "      <th>AID</th>\n",
       "      <th>Answer</th>\n",
       "      <th>Code</th>\n",
       "    </tr>\n",
       "  </thead>\n",
       "  <tbody>\n",
       "    <tr>\n",
       "      <th>32</th>\n",
       "      <td>1</td>\n",
       "      <td>T1Q5</td>\n",
       "      <td>4</td>\n",
       "      <td>doesn't really have an amount on there.</td>\n",
       "      <td>question about eligibility</td>\n",
       "    </tr>\n",
       "    <tr>\n",
       "      <th>8668</th>\n",
       "      <td>20</td>\n",
       "      <td>T1Q5</td>\n",
       "      <td>3</td>\n",
       "      <td>is that what you're asking?</td>\n",
       "      <td>lack of understanding</td>\n",
       "    </tr>\n",
       "    <tr>\n",
       "      <th>31</th>\n",
       "      <td>1</td>\n",
       "      <td>T1Q5</td>\n",
       "      <td>3</td>\n",
       "      <td>like if I needed a lower payment it</td>\n",
       "      <td>judgment of clarity of document</td>\n",
       "    </tr>\n",
       "  </tbody>\n",
       "</table>\n",
       "</div>"
      ],
      "text/plain": [
       "      PID  TQID  AID                                    Answer  \\\n",
       "32      1  T1Q5    4  doesn't really have an amount on there.    \n",
       "8668   20  T1Q5    3               is that what you're asking?   \n",
       "31      1  T1Q5    3       like if I needed a lower payment it   \n",
       "\n",
       "                                 Code  \n",
       "32         question about eligibility  \n",
       "8668            lack of understanding  \n",
       "31    judgment of clarity of document  "
      ]
     },
     "execution_count": 48,
     "metadata": {},
     "output_type": "execute_result"
    }
   ],
   "source": [
    "answers_filtered_df.sample(3)"
   ]
  },
  {
   "cell_type": "code",
   "execution_count": 49,
   "metadata": {},
   "outputs": [],
   "source": [
    "from sklearn.feature_extraction.text import CountVectorizer\n",
    "vectorizer = CountVectorizer()\n",
    "corpus = list(answers_filtered_df['Answer'])\n",
    "X = vectorizer.fit_transform(corpus)"
   ]
  },
  {
   "cell_type": "code",
   "execution_count": 50,
   "metadata": {},
   "outputs": [
    {
     "data": {
      "text/plain": [
       "16"
      ]
     },
     "execution_count": 50,
     "metadata": {},
     "output_type": "execute_result"
    }
   ],
   "source": [
    "vectorizer.vocabulary_.get('definitely')"
   ]
  },
  {
   "cell_type": "code",
   "execution_count": 51,
   "metadata": {},
   "outputs": [
    {
     "data": {
      "text/plain": [
       "array([[0, 0, 0, ..., 0, 0, 0],\n",
       "       [0, 0, 1, ..., 0, 0, 0],\n",
       "       [0, 0, 0, ..., 0, 0, 0],\n",
       "       ...,\n",
       "       [0, 0, 0, ..., 0, 0, 0],\n",
       "       [0, 0, 0, ..., 0, 0, 0],\n",
       "       [1, 0, 0, ..., 0, 0, 0]], dtype=int64)"
      ]
     },
     "execution_count": 51,
     "metadata": {},
     "output_type": "execute_result"
    }
   ],
   "source": [
    "X.toarray()"
   ]
  },
  {
   "cell_type": "markdown",
   "metadata": {},
   "source": [
    "## Extract bigrams from corpus"
   ]
  },
  {
   "cell_type": "code",
   "execution_count": 52,
   "metadata": {},
   "outputs": [],
   "source": [
    "bigram_vectorizer = CountVectorizer(ngram_range=(2,2), token_pattern=r'\\b\\w+\\b', min_df=1)"
   ]
  },
  {
   "cell_type": "code",
   "execution_count": 53,
   "metadata": {},
   "outputs": [],
   "source": [
    "bigram_analyze = bigram_vectorizer.build_analyzer()"
   ]
  },
  {
   "cell_type": "code",
   "execution_count": 54,
   "metadata": {},
   "outputs": [],
   "source": [
    "X_2 = bigram_vectorizer.fit_transform(corpus).toarray()"
   ]
  },
  {
   "cell_type": "code",
   "execution_count": 55,
   "metadata": {},
   "outputs": [
    {
     "data": {
      "text/plain": [
       "['no because',\n",
       " 'because it',\n",
       " 'it s',\n",
       " 's not',\n",
       " 'not really',\n",
       " 'really giving',\n",
       " 'giving me',\n",
       " 'me an',\n",
       " 'an amount',\n",
       " 'amount like',\n",
       " 'like if',\n",
       " 'if i',\n",
       " 'i needed',\n",
       " 'needed a',\n",
       " 'a lower',\n",
       " 'lower payment',\n",
       " 'payment it',\n",
       " 'it doesn',\n",
       " 'doesn t',\n",
       " 't really',\n",
       " 'really have',\n",
       " 'have an',\n",
       " 'an amount',\n",
       " 'amount on',\n",
       " 'on there',\n",
       " 'there right',\n",
       " 'right definitely',\n",
       " 'definitely my',\n",
       " 'my standard',\n",
       " 'standard plan',\n",
       " 'plan the',\n",
       " 'the fixed',\n",
       " 'fixed monthly',\n",
       " 'monthly payments',\n",
       " 'payments which',\n",
       " 'which is',\n",
       " 'is what',\n",
       " 'what i',\n",
       " 'i m',\n",
       " 'm currently',\n",
       " 'currently doing',\n",
       " 'doing is',\n",
       " 'is the',\n",
       " 'the best',\n",
       " 'best for',\n",
       " 'for me',\n",
       " 'me that',\n",
       " 'that way',\n",
       " 'way i',\n",
       " 'i m',\n",
       " 'm more',\n",
       " 'more confident',\n",
       " 'confident in',\n",
       " 'in knowing',\n",
       " 'knowing that',\n",
       " 'that the',\n",
       " 'the amount',\n",
       " 'amount stays',\n",
       " 'stays the',\n",
       " 'the same',\n",
       " 'same i',\n",
       " 'i know',\n",
       " 'know how',\n",
       " 'how much',\n",
       " 'much i',\n",
       " 'i make',\n",
       " 'make i',\n",
       " 'i can',\n",
       " 'can note',\n",
       " 'note it',\n",
       " 'it and',\n",
       " 'and all',\n",
       " 'all that',\n",
       " 'that good',\n",
       " 'good stuff',\n",
       " 'stuff and',\n",
       " 'and i',\n",
       " 'i m',\n",
       " 'm a',\n",
       " 'a little',\n",
       " 'little more',\n",
       " 'more confident',\n",
       " 'confident that',\n",
       " 'that i',\n",
       " 'i can',\n",
       " 'can make',\n",
       " 'make steady',\n",
       " 'steady payments',\n",
       " 'payments i',\n",
       " 'i would',\n",
       " 'would have',\n",
       " 'have to',\n",
       " 'to read',\n",
       " 'read it',\n",
       " 'it several',\n",
       " 'several times',\n",
       " 'times and',\n",
       " 'and then',\n",
       " 'then really',\n",
       " 'really take',\n",
       " 'take it',\n",
       " 'it all',\n",
       " 'all in',\n",
       " 'in and',\n",
       " 'and figure',\n",
       " 'figure out',\n",
       " 'out exactly',\n",
       " 'exactly what',\n",
       " 'what payment',\n",
       " 'payment plan',\n",
       " 'plan works',\n",
       " 'works best',\n",
       " 'best for',\n",
       " 'for me',\n",
       " 'me really',\n",
       " 'really my',\n",
       " 'my goal',\n",
       " 'goal is',\n",
       " 'is to',\n",
       " 'to just',\n",
       " 'just pay',\n",
       " 'pay it',\n",
       " 'it off',\n",
       " 'off as',\n",
       " 'as soon',\n",
       " 'soon as',\n",
       " 'as possible',\n",
       " 'possible so',\n",
       " 'so i',\n",
       " 'i would',\n",
       " 'would just',\n",
       " 'just call',\n",
       " 'call them',\n",
       " 'them up',\n",
       " 'up and',\n",
       " 'and say',\n",
       " 'say what',\n",
       " 'what do',\n",
       " 'do you',\n",
       " 'you suggest',\n",
       " 'suggest to',\n",
       " 'to really',\n",
       " 'really get',\n",
       " 'get this',\n",
       " 'this done',\n",
       " 'done within',\n",
       " 'within the',\n",
       " 'the next',\n",
       " 'next five',\n",
       " 'five to',\n",
       " 'to six',\n",
       " 'six years',\n",
       " 'years no',\n",
       " 'no cause',\n",
       " 'cause it',\n",
       " 'it doesn',\n",
       " 'doesn t',\n",
       " 't give',\n",
       " 'give me',\n",
       " 'me numbers',\n",
       " 'numbers set',\n",
       " 'set numbers',\n",
       " 'numbers i',\n",
       " 'i don',\n",
       " 'don t',\n",
       " 't think',\n",
       " 'think so',\n",
       " 'so how',\n",
       " 'how to',\n",
       " 'to go',\n",
       " 'go about',\n",
       " 'about my',\n",
       " 'my payments',\n",
       " 'payments is',\n",
       " 'is that',\n",
       " 'that what',\n",
       " 'what you',\n",
       " 'you re',\n",
       " 're asking',\n",
       " 'asking i',\n",
       " 'i don',\n",
       " 'don t',\n",
       " 't think',\n",
       " 'think i',\n",
       " 'i would',\n",
       " 'would have',\n",
       " 'have enough',\n",
       " 'enough information',\n",
       " 'information because',\n",
       " 'because i',\n",
       " 'i don',\n",
       " 'don t',\n",
       " 't know',\n",
       " 'know what',\n",
       " 'what the',\n",
       " 'the restrictions',\n",
       " 'restrictions are',\n",
       " 'are i',\n",
       " 'i feel',\n",
       " 'feel like',\n",
       " 'like i',\n",
       " 'i m',\n",
       " 'm in',\n",
       " 'in a',\n",
       " 'a similar',\n",
       " 'similar situation',\n",
       " 'situation where',\n",
       " 'where i',\n",
       " 'i have',\n",
       " 'have a',\n",
       " 'a lot',\n",
       " 'lot of',\n",
       " 'of federal',\n",
       " 'federal student',\n",
       " 'student loans',\n",
       " 'loans and',\n",
       " 'and i',\n",
       " 'i m',\n",
       " 'm thinking',\n",
       " 'thinking about',\n",
       " 'about it',\n",
       " 'it it',\n",
       " 'it s',\n",
       " 's very',\n",
       " 'very similar',\n",
       " 'similar i',\n",
       " 'i have',\n",
       " 'have a',\n",
       " 'a loan',\n",
       " 'loan servicer',\n",
       " 'servicer and',\n",
       " 'and i',\n",
       " 'i ve',\n",
       " 've had',\n",
       " 'had to',\n",
       " 'to go',\n",
       " 'go through',\n",
       " 'through contacting',\n",
       " 'contacting them',\n",
       " 'them about',\n",
       " 'about my',\n",
       " 'my options']"
      ]
     },
     "execution_count": 55,
     "metadata": {},
     "output_type": "execute_result"
    }
   ],
   "source": [
    "bigram_analyze(str(corpus))"
   ]
  },
  {
   "cell_type": "markdown",
   "metadata": {},
   "source": [
    "## Using Stopwords\n",
    "\n",
    "Stopwords are those which will be discluded from analysis, such as it, they, if, and other words which have little informational value. This is a tricky topic and we should probably decide case by case what is unimportant based on the subtlety of insights in the dataset"
   ]
  },
  {
   "cell_type": "markdown",
   "metadata": {},
   "source": [
    "BAGS OF WORDS - fixed integer to each word, for each document #i, count number of occurences of word w, store in `W[i,j]` as the value of the feature #j where j is the index of w in the dictionary"
   ]
  },
  {
   "cell_type": "markdown",
   "metadata": {},
   "source": [
    "## Term Frequency vs Inverse Document Frequency\n",
    "\n",
    "What are the most informative words? - probably not those that always occur, or those that rarely occur, but those which occur at some fraction in between - closest to 1/2"
   ]
  },
  {
   "cell_type": "markdown",
   "metadata": {},
   "source": [
    "# Interactive Charts "
   ]
  },
  {
   "cell_type": "markdown",
   "metadata": {},
   "source": [
    "TODO: Make the charts below display relevant information and give some interactive options for the user"
   ]
  },
  {
   "cell_type": "code",
   "execution_count": 56,
   "metadata": {},
   "outputs": [
    {
     "data": {
      "image/png": "[encoded data removed]",
      "text/plain": [
       "<Figure size 432x288 with 1 Axes>"
      ]
     },
     "metadata": {
      "needs_background": "light"
     },
     "output_type": "display_data"
    }
   ],
   "source": [
    "%matplotlib inline\n",
    "import matplotlib.pyplot as plt\n",
    "\n",
    "\n",
    "answers_filtered_df = answers_qgrid.get_changed_df()\n",
    "x = answers_filtered_df.index\n",
    "y = answers_filtered_df['PID']\n",
    "\n",
    "\n",
    "fig, ax = plt.subplots()\n",
    "scatter, = ax.plot(x,y,ms=8,color='b',marker='o',ls='')\n",
    "\n",
    "def handle_filter_changed(event, widget):\n",
    "    answers_filtered_df = answers_qgrid.get_changed_df()\n",
    "    x = answers_filtered_df.index\n",
    "    y = answers_filtered_df['PID']\n",
    "    fig.canvas.draw()\n",
    "    scatter.set_data(x, y)\n",
    "    fig.canvas.draw()\n",
    "\n",
    "answers_qgrid.on('filter_changed', handle_filter_changed)\n",
    "\n",
    "\n",
    "x = answers_filtered_df.index\n",
    "y = answers_filtered_df['PID']"
   ]
  },
  {
   "cell_type": "markdown",
   "metadata": {},
   "source": [
    "## Chart to See TQIDs present per Code\n",
    "\n",
    "Below is a very simple graphical display of which codes are present for the selected tqids or vice versa. More analysis can be applied to make this chart much more interesting. Examples include - number of instances, multicolor comparisons of several PIDs, and other ways to add more diversity to the visualiation."
   ]
  },
  {
   "cell_type": "code",
   "execution_count": 18,
   "metadata": {},
   "outputs": [
    {
     "data": {
      "application/vnd.jupyter.widget-view+json": {
       "model_id": "a1f2c834352d4df6b674fa5bbd609043",
       "version_major": 2,
       "version_minor": 0
      },
      "text/plain": [
       "QgridWidget(grid_options={'fullWidthRows': True, 'syncColumnCellResize': True, 'forceFitColumns': True, 'defau…"
      ]
     },
     "metadata": {},
     "output_type": "display_data"
    }
   ],
   "source": [
    "answers_qgrid"
   ]
  },
  {
   "cell_type": "code",
   "execution_count": 47,
   "metadata": {},
   "outputs": [
    {
     "data": {
      "image/png": "[encoded data removed]",
      "text/plain": [
       "<Figure size 432x288 with 1 Axes>"
      ]
     },
     "metadata": {
      "needs_background": "light"
     },
     "output_type": "display_data"
    }
   ],
   "source": [
    "%matplotlib inline\n",
    "import matplotlib.pyplot as plt\n",
    "\n",
    "\n",
    "answers_filtered_df = answers_qgrid.get_changed_df()\n",
    "x = answers_filtered_df['TQID']\n",
    "y = answers_filtered_df['Code']\n",
    "\n",
    "\n",
    "fig, ax = plt.subplots()\n",
    "scatter, = ax.plot(x,y,ms=8,color='b',marker='o',ls='')\n",
    "\n",
    "def handle_filter_changed(event, widget):\n",
    "    answers_filtered_df = answers_qgrid.get_changed_df()\n",
    "    x = answers_filtered_df.index\n",
    "    y = answers_filtered_df['PID']\n",
    "    fig.canvas.draw()\n",
    "    barh.set_data(x, y)\n",
    "    fig.canvas.draw()\n",
    "\n",
    "answers_qgrid.on('filter_changed', handle_filter_changed)\n",
    "\n",
    "\n",
    "x = answers_filtered_df.index\n",
    "y = answers_filtered_df['PID']"
   ]
  },
  {
   "cell_type": "markdown",
   "metadata": {},
   "source": [
    "TODO: \n",
    "- Create more relevant examples of bar graphs and scatter plots which can be generated from data. \n",
    "- Make an easy way for user to select the x and y axes of what is being graphed\n",
    "- Add a feature where PID can be represented by color - each user has a unique color so that charts can have x, y, even z axes, in addition to color segmented users - allows for more fine grained visualziations\n",
    "- Make a feature to list filters which have been applied to generate `answers_filtered_df` easily\n",
    "- Make a feature to easily filter with a simple command\n",
    "- Make an easy way to save one or multiple dataframes with simple commands and subsequently do comparative anlaysis\n",
    "- Framework for df vs df analysis\n",
    "- Deal with TF/IDF and stopwords (above)\n",
    "- decide on parsing method - contractions as one word? what to do about punctuation?"
   ]
  },
  {
   "cell_type": "markdown",
   "metadata": {},
   "source": [
    "# OLD CODE\n",
    "\n",
    "Below is code which is no longer relevant"
   ]
  },
  {
   "cell_type": "code",
   "execution_count": 11,
   "metadata": {},
   "outputs": [
    {
     "name": "stderr",
     "output_type": "stream",
     "text": [
      "[nltk_data] Downloading package stopwords to\n",
      "[nltk_data]     /Users/tempadmin/nltk_data...\n",
      "[nltk_data]   Package stopwords is already up-to-date!\n"
     ]
    },
    {
     "data": {
      "text/plain": [
       "True"
      ]
     },
     "execution_count": 11,
     "metadata": {},
     "output_type": "execute_result"
    }
   ],
   "source": [
    "nltk.download('stopwords')"
   ]
  },
  {
   "cell_type": "code",
   "execution_count": 12,
   "metadata": {},
   "outputs": [],
   "source": [
    "from nltk.probability import FreqDist\n",
    "from nltk.corpus import stopwords\n",
    "stopWords = set(stopwords.words('english'))"
   ]
  },
  {
   "cell_type": "code",
   "execution_count": null,
   "metadata": {},
   "outputs": [],
   "source": [
    "answers_filtered_df['tokens'] = answers_filtered_df.apply(lambda row: row['tokens'])"
   ]
  },
  {
   "cell_type": "code",
   "execution_count": 43,
   "metadata": {},
   "outputs": [],
   "source": [
    "answers_list = list(answers_filtered_df['tokens'])\n",
    "flat_answers_list = [item for sublist in answers_list for item in sublist]\n",
    "flat_answers_list\n",
    "answers_fd = FreqDist(flat_answers_list)"
   ]
  },
  {
   "cell_type": "code",
   "execution_count": 44,
   "metadata": {},
   "outputs": [],
   "source": [
    "answer_bigrams = nltk.bigrams(flat_answers_list)"
   ]
  },
  {
   "cell_type": "markdown",
   "metadata": {},
   "source": [
    "TODO: Make the below code count bigrams rather than simply list them all"
   ]
  },
  {
   "cell_type": "code",
   "execution_count": 45,
   "metadata": {},
   "outputs": [
    {
     "data": {
      "text/plain": [
       "<generator object bigrams at 0x1a1b1ce0c0>"
      ]
     },
     "execution_count": 45,
     "metadata": {},
     "output_type": "execute_result"
    }
   ],
   "source": [
    "answer_bigrams"
   ]
  },
  {
   "cell_type": "markdown",
   "metadata": {},
   "source": [
    "## Tokenize Answer Column\n",
    "\n",
    "Tokenize the answer column using 'Whitespace Tokenizer', which does not split up contractions and currently appends punctuation to the token (which is probably not ideal)"
   ]
  },
  {
   "cell_type": "code",
   "execution_count": 8,
   "metadata": {},
   "outputs": [],
   "source": [
    "from nltk.tokenize import WhitespaceTokenizer\n",
    "answers_filtered_df['Answer'] = answers_filtered_df['Answer'].astype(str)\n",
    "answers_filtered_df['tokens'] = answers_filtered_df.apply(lambda row: WhitespaceTokenizer().tokenize(row['Answer']), axis=1)"
   ]
  }
 ],
 "metadata": {
  "kernelspec": {
   "display_name": "Python 3",
   "language": "python",
   "name": "python3"
  },
  "language_info": {
   "codemirror_mode": {
    "name": "ipython",
    "version": 3
   },
   "file_extension": ".py",
   "mimetype": "text/x-python",
   "name": "python",
   "nbconvert_exporter": "python",
   "pygments_lexer": "ipython3",
   "version": "3.7.3"
  }
 },
 "nbformat": 4,
 "nbformat_minor": 2
}
